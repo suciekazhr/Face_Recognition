{
 "cells": [
  {
   "cell_type": "markdown",
   "id": "e792a60c",
   "metadata": {},
   "source": [
    "Sistem Pengenalan Wajah"
   ]
  },
  {
   "cell_type": "code",
   "execution_count": 1,
   "id": "5075d453",
   "metadata": {},
   "outputs": [
    {
     "name": "stdout",
     "output_type": "stream",
     "text": [
      "Pengguna Suci dengan nomor registrasi 002 berhasil ditambahkan.\n"
     ]
    }
   ],
   "source": [
    "import cv2\n",
    "import face_recognition\n",
    "import os\n",
    "import math\n",
    "import numpy as np\n",
    "from datetime import datetime\n",
    "\n",
    "videoCapture = cv2.VideoCapture(0)\n",
    "\n",
    "def markAttendance(regNumber, name):\n",
    "    f = open(\"Attendance.csv\", \"r+\")\n",
    "    data = f.readlines()\n",
    "    regNumberList = []\n",
    "    for line in data:\n",
    "        entry = line.split(',')\n",
    "        regNumberList.append(entry[0])\n",
    "    if regNumber not in regNumberList:\n",
    "        time = datetime.now()\n",
    "        timeFormat = time.strftime('%H:%M:%S')\n",
    "        f.writelines(f'\\n{regNumber},{name},{timeFormat}')\n",
    "        print(f\"Pengguna {name} dengan nomor registrasi {regNumber} berhasil ditambahkan.\")\n",
    "\n",
    "def getAccuracy(faceDistance, faceMatchThreshold = 0.6):\n",
    "    if faceDistance > faceMatchThreshold:\n",
    "        range = (1.0 - faceMatchThreshold)\n",
    "        linearValue = (1.0 - faceDistance) / (range * 2.0)\n",
    "        return linearValue\n",
    "    else:\n",
    "        range = faceMatchThreshold\n",
    "        linearValue = 1.0 - (faceDistance / (range * 2.0))\n",
    "        return linearValue + ((1.0 - linearValue) * math.pow((linearValue - 0.5) * 2, 0.2))\n",
    "\n",
    "def addNewUser():\n",
    "    ret, frame = videoCapture.read()\n",
    "    imageName = input(\"Masukkan nama file gambar (format: Nama.NomorRegistrasi.jpg): \")\n",
    "    cv2.imwrite(f\"imageData/{imageName}\", frame)\n",
    "    reloadDataset()\n",
    "\n",
    "def reloadDataset():\n",
    "    global allPaths, allNames, allRegNumbers, allEncodings\n",
    "    allPaths = os.listdir(\"imageData\")\n",
    "    allNames = []\n",
    "    allRegNumbers = []\n",
    "    allEncodings = []\n",
    "    for index in range(len(allPaths)):\n",
    "        allNames.append(allPaths[index].split(\".\")[0])\n",
    "        allRegNumbers.append(allPaths[index].split(\".\")[1])\n",
    "        image = face_recognition.load_image_file(\"imageData/\" + allPaths[index])\n",
    "        temp = face_recognition.face_encodings(image)[0]\n",
    "        allEncodings.append(temp)\n",
    "reloadDataset()\n",
    "\n",
    "while True:\n",
    "    ret, frame = videoCapture.read()\n",
    "    frame = cv2.resize(frame, (0, 0), fx=2, fy=1.6)\n",
    "    resizedFrame = cv2.resize(frame, (0, 0), fx=0.2, fy=0.2)\n",
    "    requiredFrame = cv2.cvtColor(resizedFrame, cv2.COLOR_BGR2RGB)\n",
    "    faceLocation = face_recognition.face_locations(requiredFrame)\n",
    "    faceEncoding = face_recognition.face_encodings(requiredFrame, faceLocation)\n",
    "\n",
    "    faceNames = []\n",
    "    for encoding in faceEncoding: \n",
    "        ismatched = face_recognition.compare_faces(allEncodings, encoding)\n",
    "    matchedName = \"Unknown\"\n",
    "\n",
    "    faceDistance = face_recognition.face_distance(allEncodings, encoding)\n",
    "    if len(faceDistance) > 1:\n",
    "        if faceDistance[0] > faceDistance[1]:\n",
    "            minimumFaceDistance = faceDistance[1]\n",
    "        else:\n",
    "            minimumFaceDistance = faceDistance[0]\n",
    "    else:\n",
    "        minimumFaceDistance = faceDistance[0]\n",
    "\n",
    "    accuracy = getAccuracy(minimumFaceDistance)*100\n",
    "    bestMatchIndex = np.argmin(faceDistance)\n",
    "\n",
    "    if ismatched[bestMatchIndex] and accuracy > 80:\n",
    "        matchedName = allNames[bestMatchIndex]\n",
    "        markAttendance(allRegNumbers[bestMatchIndex], matchedName)\n",
    "    faceNames.append(matchedName)\n",
    "\n",
    "    for (top, right, bottom, left), name in zip(faceLocation, faceNames):\n",
    "        top *= 5\n",
    "        right *= 5\n",
    "        bottom *= 5\n",
    "        left *= 5\n",
    "        cv2.rectangle(frame, (left, top), (right, bottom), (0, 255, 0), 3)\n",
    "        cv2.putText(frame, name, (left + 6, bottom - 10), cv2.FONT_HERSHEY_DUPLEX, 1.5, (0, 255, 0), 2)\n",
    "        if(accuracy > 80):\n",
    "            cv2.putText(frame, \"%.2f\"%accuracy + \"%\", (left + 6, bottom + 30), cv2.FONT_HERSHEY_DUPLEX, 1.0, (0, 255, 0), 2)\n",
    "    cv2.putText(frame, \"Tekan 'A' untuk tambahkan pengguna baru\", (20, 50), cv2.FONT_HERSHEY_DUPLEX, 1.0, (0, 255, 0), 2)\n",
    "    cv2.putText(frame, \"Tekan 'Q' untuk keluar\", (20, 90), cv2.FONT_HERSHEY_DUPLEX, 1.0, (0, 255, 0), 2)\n",
    "    cv2.imshow(\"Absensi\", frame)\n",
    "    key = cv2.waitKey(1)\n",
    "    if key == ord('q'):\n",
    "        break\n",
    "    elif key == ord('a'):\n",
    "        addNewUser()\n",
    "\n",
    "videoCapture.release()\n",
    "cv2.destroyAllWindows()"
   ]
  },
  {
   "cell_type": "markdown",
   "id": "2bb94651",
   "metadata": {},
   "source": [
    "Visualisasi Distribusi Data"
   ]
  },
  {
   "cell_type": "code",
   "execution_count": 2,
   "id": "557ca1bb",
   "metadata": {},
   "outputs": [
    {
     "data": {
      "image/png": "[encoded data removed]",
      "text/plain": [
       "<Figure size 1000x600 with 1 Axes>"
      ]
     },
     "metadata": {},
     "output_type": "display_data"
    }
   ],
   "source": [
    "import pandas as pd\n",
    "import matplotlib.pyplot as plt\n",
    "\n",
    "attendance_data = pd.read_csv(\"Attendance.csv\")\n",
    "reg_numbers = attendance_data['Registration_No.']\n",
    "names = attendance_data['Name']\n",
    "entry_times = attendance_data['Entry_Time']\n",
    "\n",
    "plt.figure(figsize=(10, 6))\n",
    "plt.scatter(reg_numbers, entry_times, marker='o', color='blue', alpha=0.5)\n",
    "plt.title('Attendance Data')\n",
    "plt.xlabel('Registration Number')\n",
    "plt.ylabel('Entry Time')\n",
    "plt.xticks(rotation=45)\n",
    "plt.grid(True)\n",
    "plt.tight_layout()\n",
    "plt.show()"
   ]
  },
  {
   "cell_type": "markdown",
   "id": "d7ded8eb",
   "metadata": {},
   "source": [
    ">- Visualisasi data dapat menggunakan scatterplot, dimana ketika terdapat beberapa data presensi maka dapat dilihat mayoritas jam kedatangan dari para pengguna. Selain itu, dapat juga dilihat persebaran datanya serta melihat distribusi datanya apakah normal atau tidak.\n",
    ">- Dalam contoh ini, hanya menggunakan 2 data sehingga persebaran datanya hanya sederhana.\n",
    ">- Data dengan nomor registrasi 001 (`Dikta.001.jpg`) merupakan pengguna baru dimana datanya berdasarkan perekaman kamera yang kemudian tersimpan dalam folder `imageData`. Setelah itu ketika dilakukan deteksi wajah lagi, maka data kehadirannya dapat dicatat dalam `Attendance.csv`.\n",
    ">- Sedangkan untuk data dengan registrasi 002 (`Suci.002.jpg`) merupakan pengguna dengan data wajah yang sudah tersimpan dalam folder `imageData`."
   ]
  },
  {
   "cell_type": "markdown",
   "id": "ad7c5a14",
   "metadata": {},
   "source": [
    "Visualisasi Variasi Fitur Wajah"
   ]
  },
  {
   "cell_type": "code",
   "execution_count": 3,
   "id": "617cd996",
   "metadata": {},
   "outputs": [
    {
     "data": {
      "image/png": "[encoded data removed]",
      "text/plain": [
       "<Figure size 800x600 with 2 Axes>"
      ]
     },
     "metadata": {},
     "output_type": "display_data"
    }
   ],
   "source": [
    "import seaborn as sns\n",
    "\n",
    "image_path = \"imageData/Suci.002.jpg\"\n",
    "image = cv2.imread(image_path)\n",
    "\n",
    "#Simulasi deteksi wajah dengan mengambil area tengah gambar\n",
    "#Contoh area wajah yang dipotong\n",
    "face_roi = image[100:300, 100:300]\n",
    "\n",
    "#Heatmap dari area wajah\n",
    "heatmap = np.zeros_like(face_roi[:, :, 0])\n",
    "\n",
    "#Contoh landmark untuk mata, hidung, dan mulut\n",
    "landmarks = {\n",
    "    'left_eye': (30, 80),\n",
    "    'right_eye': (130, 80),\n",
    "    'nose_tip': (80, 130),\n",
    "    'mouth_left': (75, 180),\n",
    "    'mouth_right': (85, 180)\n",
    "}\n",
    "\n",
    "#Menentukan intensitas untuk setiap landmark\n",
    "intensity = 255\n",
    "\n",
    "#Mengatur intensitas untuk setiap landmark pada heatmap\n",
    "for landmark, (x, y) in landmarks.items():\n",
    "    if 0 <= y < heatmap.shape[0] and 0 <= x < heatmap.shape[1]:\n",
    "        heatmap[y, x] = intensity\n",
    "\n",
    "#Plot heatmap\n",
    "plt.figure(figsize=(8, 6))\n",
    "sns.heatmap(heatmap, cmap='hot', alpha=0.6)\n",
    "plt.title('Heatmap Variasi Fitur Wajah')\n",
    "plt.axis('off')\n",
    "plt.show()"
   ]
  }
 ],
 "metadata": {
  "kernelspec": {
   "display_name": "Python 3 (ipykernel)",
   "language": "python",
   "name": "python3"
  },
  "language_info": {
   "codemirror_mode": {
    "name": "ipython",
    "version": 3
   },
   "file_extension": ".py",
   "mimetype": "text/x-python",
   "name": "python",
   "nbconvert_exporter": "python",
   "pygments_lexer": "ipython3",
   "version": "3.11.2"
  }
 },
 "nbformat": 4,
 "nbformat_minor": 5
}
